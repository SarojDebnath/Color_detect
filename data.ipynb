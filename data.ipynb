{
 "cells": [
  {
   "cell_type": "code",
   "execution_count": 6,
   "id": "1ef86e47",
   "metadata": {},
   "outputs": [],
   "source": [
    "import json\n",
    "\n",
    "def read_config(file_path):\n",
    "    try:\n",
    "        with open(file_path, 'r') as file:\n",
    "            config_data = json.load(file)\n",
    "        return config_data\n",
    "    except (FileNotFoundError, json.JSONDecodeError) as e:\n",
    "        print(f\"Error reading config file: {e}\")\n",
    "        return {}\n",
    "\n",
    "def write_config(file_path, config_data):\n",
    "    with open(file_path, 'w') as file:\n",
    "        json.dump(config_data, file, indent=4)"
   ]
  },
  {
   "cell_type": "code",
   "execution_count": 11,
   "id": "1ac03663",
   "metadata": {},
   "outputs": [],
   "source": [
    "# Specify the path to your JSON file\n",
    "config_file_path = 'C:/Users/sarojd/SDX330/Color_detect/data.json'\n",
    "config = read_config(config_file_path)\n"
   ]
  },
  {
   "cell_type": "code",
   "execution_count": null,
   "id": "fc741f84",
   "metadata": {},
   "outputs": [],
   "source": [
    "'''\n",
    "config['pon1']=[22,248]\n",
    "config['pon2']=[24,334]\n",
    "config['pon3']=[24,268]\n",
    "config['pon4']=[24,352]\n",
    "config['pon5']=[276,250]\n",
    "config['pon6']=[278,334]\n",
    "config['pon7']=[276,268]\n",
    "config['pon8']=[278,354]\n",
    "config['pon9']=[530,248]\n",
    "config['pon10']=[530,334]\n",
    "config['pon11']=[530,268]\n",
    "config['pon12']=[528,352]\n",
    "config['pon13']=[786,248]\n",
    "config['pon14']=[784,336]\n",
    "config['pon15']=[784,268]\n",
    "config['pon16']=[784,354]\n",
    "config['pon17']=[128,240]\n",
    "config['pon18']=[126,326]\n",
    "config['pon19']=[128,260]\n",
    "config['pon20']=[126,348]\n",
    "config['pon21']=[382,244]\n",
    "config['pon22']=[382,330]\n",
    "config['pon23']=[382,262]\n",
    "config['pon24']=[382,348]\n",
    "config['pon25']=[638,248]\n",
    "config['pon26']=[638,332]\n",
    "config['pon27']=[638,268]\n",
    "config['pon28']=[636,352]\n",
    "config['pon29']=[894,248]\n",
    "config['pon30']=[892,334]\n",
    "config['pon31']=[892,268]\n",
    "config['pon32']=[892,352]\n",
    "config['pon33']=[124,498]\n",
    "config['pon34']=[124,586]\n",
    "config['pon35']=[124,518]\n",
    "config['pon36']=[122,604]\n",
    "config['pon37']=[380,504]\n",
    "config['pon38']=[380,588]\n",
    "config['pon39']=[378,522]\n",
    "config['pon40']=[378,608]\n",
    "config['pon41']=[634,506]\n",
    "config['pon42']=[632,592]\n",
    "config['pon43']=[634,526]\n",
    "config['pon44']=[632,612]\n",
    "config['pon45']=[890,504]\n",
    "config['pon46']=[888,590]\n",
    "config['pon47']=[888,526]\n",
    "config['pon48']=[890,612]\n",
    "'''\n",
    "#config['eth5']=[590,526]\n",
    "#config['eth6']=[588,592]\n",
    "#config['pwr']=[618, 80]\n",
    "#config['alm']=[644, 80]\n",
    "#config['fan']=[668, 80]\n",
    "write_config(config_file_path, config)"
   ]
  },
  {
   "cell_type": "code",
   "execution_count": null,
   "id": "5151ab5c",
   "metadata": {},
   "outputs": [],
   "source": [
    "delete='switch6'\n",
    "if delete in config:\n",
    "    config.pop(delete)\n",
    "    print(\"Deleted 'variable'\")"
   ]
  }
 ],
 "metadata": {
  "kernelspec": {
   "display_name": "test_env",
   "language": "python",
   "name": "python3"
  },
  "language_info": {
   "codemirror_mode": {
    "name": "ipython",
    "version": 3
   },
   "file_extension": ".py",
   "mimetype": "text/x-python",
   "name": "python",
   "nbconvert_exporter": "python",
   "pygments_lexer": "ipython3",
   "version": "3.9.13"
  }
 },
 "nbformat": 4,
 "nbformat_minor": 5
}
